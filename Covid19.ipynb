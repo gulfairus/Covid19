{
 "cells": [
  {
   "cell_type": "code",
   "execution_count": 46,
   "id": "615abfff-5516-44d2-b6a2-63546477c882",
   "metadata": {},
   "outputs": [],
   "source": [
    "import os\n",
    "import glob\n",
    "var = glob.glob('/home/benjamin/code/Benyoumen/Covid19/COVID-19_Radiography_Dataset/COVID/images/*.png')\n",
    "main_dir = \"/home/benjamin/code/Benyoumen/Covid19/COVID-19_Radiography_Dataset\"\n",
    "covid = os.path.join(main_dir, \"COVID\", 'images')\n",
    "# os.system(f'ls {covid} /*.Identifier ')\n",
    "normal = os.path.join(main_dir, \"Normal\", 'images')\n",
    "pneumonia = os.path.join(main_dir, \"Viral Pneumonia\", 'images')\n",
    "opacity = os.path.join(main_dir, \"Lung_Opacity\", 'images')"
   ]
  },
  {
   "cell_type": "code",
   "execution_count": 47,
   "id": "a76326d7-5a3e-47e9-b026-cd035081804f",
   "metadata": {},
   "outputs": [
    {
     "name": "stdout",
     "output_type": "stream",
     "text": [
      "/home/benjamin/code/Benyoumen/Covid19/COVID-19_Radiography_Dataset/COVID/images\n"
     ]
    }
   ],
   "source": [
    "print(covid)"
   ]
  },
  {
   "cell_type": "code",
   "execution_count": 44,
   "id": "c6472113-ee6b-49f2-aaad-c4a0c2edee5a",
   "metadata": {},
   "outputs": [],
   "source": [
    "# covid_names = os.listdir(covid)\n",
    "\n",
    "covid_names = glob.glob(f'{covid}/*.png')\n",
    "normal_names = glob.glob(f'{normal}/*png')\n",
    "pneumonia_names = glob.glob(pneumonia)\n",
    "opacity_names = glob.glob(f'{opacity}/*png')"
   ]
  },
  {
   "cell_type": "code",
   "execution_count": 1,
   "id": "4bc4b058-1138-403e-9ff4-50768bd4f4bc",
   "metadata": {},
   "outputs": [
    {
     "ename": "NameError",
     "evalue": "name 'covid_names' is not defined",
     "output_type": "error",
     "traceback": [
      "\u001b[0;31m---------------------------------------------------------------------------\u001b[0m",
      "\u001b[0;31mNameError\u001b[0m                                 Traceback (most recent call last)",
      "Cell \u001b[0;32mIn [1], line 1\u001b[0m\n\u001b[0;32m----> 1\u001b[0m \u001b[38;5;28mprint\u001b[39m(\u001b[38;5;28mlen\u001b[39m(\u001b[43mcovid_names\u001b[49m))\n\u001b[1;32m      2\u001b[0m \u001b[38;5;28mprint\u001b[39m(\u001b[38;5;28mlen\u001b[39m(normal_names))\n\u001b[1;32m      3\u001b[0m \u001b[38;5;28mprint\u001b[39m(\u001b[38;5;28mlen\u001b[39m(pneumonia_names))\n",
      "\u001b[0;31mNameError\u001b[0m: name 'covid_names' is not defined"
     ]
    }
   ],
   "source": [
    "print(len(covid_names))\n",
    "print(len(normal_names))\n",
    "print(len(pneumonia_names))\n",
    "print(len(opacity_names))"
   ]
  },
  {
   "cell_type": "code",
   "execution_count": 70,
   "id": "107f79b4-dec8-495f-8d8a-0cff262db8e3",
   "metadata": {},
   "outputs": [
    {
     "name": "stdout",
     "output_type": "stream",
     "text": [
      "1875/1875 [==============================] - 10s 5ms/step - loss: 0.3001 - accuracy: 0.9074\n"
     ]
    },
    {
     "data": {
      "text/plain": [
       "<keras.callbacks.History at 0x7f4e30978fa0>"
      ]
     },
     "execution_count": 70,
     "metadata": {},
     "output_type": "execute_result"
    }
   ],
   "source": [
    "from keras.datasets import mnist\n",
    "\n",
    "# - Integrate Preprocessing Layers\n",
    "# - Add Regularization\n",
    "\n",
    "# Reload raw data\n",
    "(X_train_raw, y_train_raw), (X_test_raw, y_test_raw) = mnist.load_data()\n",
    "\n",
    "model = Sequential()\n",
    "model.add(layers.Reshape((28, 28, 1), input_shape=(28,28))),\n",
    "model.add(layers.experimental.preprocessing.Rescaling(scale=1./255.)),\n",
    "model.add(layers.Conv2D(16, (3,3), padding='same', activation=\"relu\")),\n",
    "model.add(layers.MaxPool2D(pool_size=(2,2))),\n",
    "model.add(layers.Conv2D(32, (2,2), padding='same', activation=\"relu\")),\n",
    "model.add(layers.MaxPool2D(pool_size=(2,2))),\n",
    "model.add(layers.Flatten()),\n",
    "model.add(layers.Dense(50, activation='relu')),\n",
    "model.add(layers.Dropout(0.3)),\n",
    "model.add(layers.Dense(10, activation='softmax'))\n",
    "\n",
    "\n",
    "model.compile(loss='sparse_categorical_crossentropy', # No need to OHE target\n",
    "      optimizer='adam',\n",
    "      metrics=['accuracy'])\n",
    "\n",
    "model.fit(X_train_raw, y_train_raw,\n",
    "  epochs=1,  # Use early stopping in practice\n",
    "  batch_size=32,\n",
    "  verbose=1)"
   ]
  },
  {
   "cell_type": "code",
   "execution_count": 73,
   "id": "51787ebc-4e7e-40da-a807-ab5f88eb09ef",
   "metadata": {},
   "outputs": [
    {
     "name": "stdout",
     "output_type": "stream",
     "text": [
      "[0.07136604934930801, 0.9782000184059143]\n"
     ]
    }
   ],
   "source": [
    "## We can now evaluate the model on the test data\n",
    "print(model.evaluate(X_test_raw, y_test_raw, verbose=0))"
   ]
  },
  {
   "cell_type": "code",
   "execution_count": null,
   "id": "fe4cbf53-b113-45b7-ba43-3e7e6af25fcf",
   "metadata": {},
   "outputs": [],
   "source": []
  }
 ],
 "metadata": {
  "kernelspec": {
   "display_name": "Python 3 (ipykernel)",
   "language": "python",
   "name": "python3"
  },
  "language_info": {
   "codemirror_mode": {
    "name": "ipython",
    "version": 3
   },
   "file_extension": ".py",
   "mimetype": "text/x-python",
   "name": "python",
   "nbconvert_exporter": "python",
   "pygments_lexer": "ipython3",
   "version": "3.10.6"
  }
 },
 "nbformat": 4,
 "nbformat_minor": 5
}
