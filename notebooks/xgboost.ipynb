{
 "cells": [
  {
   "cell_type": "code",
<<<<<<< HEAD
   "execution_count": 1,
   "metadata": {},
   "outputs": [
    {
     "name": "stderr",
     "output_type": "stream",
     "text": [
      "2024-03-13 11:20:40.113519: I tensorflow/core/util/port.cc:113] oneDNN custom operations are on. You may see slightly different numerical results due to floating-point round-off errors from different computation orders. To turn them off, set the environment variable `TF_ENABLE_ONEDNN_OPTS=0`.\n",
      "2024-03-13 11:20:40.116098: I external/local_tsl/tsl/cuda/cudart_stub.cc:31] Could not find cuda drivers on your machine, GPU will not be used.\n",
      "2024-03-13 11:20:40.148294: E external/local_xla/xla/stream_executor/cuda/cuda_dnn.cc:9261] Unable to register cuDNN factory: Attempting to register factory for plugin cuDNN when one has already been registered\n",
      "2024-03-13 11:20:40.148323: E external/local_xla/xla/stream_executor/cuda/cuda_fft.cc:607] Unable to register cuFFT factory: Attempting to register factory for plugin cuFFT when one has already been registered\n",
      "2024-03-13 11:20:40.149825: E external/local_xla/xla/stream_executor/cuda/cuda_blas.cc:1515] Unable to register cuBLAS factory: Attempting to register factory for plugin cuBLAS when one has already been registered\n",
      "2024-03-13 11:20:40.155291: I external/local_tsl/tsl/cuda/cudart_stub.cc:31] Could not find cuda drivers on your machine, GPU will not be used.\n",
      "2024-03-13 11:20:40.155994: I tensorflow/core/platform/cpu_feature_guard.cc:182] This TensorFlow binary is optimized to use available CPU instructions in performance-critical operations.\n",
      "To enable the following instructions: AVX2 AVX512F AVX512_VNNI FMA, in other operations, rebuild TensorFlow with the appropriate compiler flags.\n",
      "2024-03-13 11:20:41.073543: W tensorflow/compiler/tf2tensorrt/utils/py_utils.cc:38] TF-TRT Warning: Could not find TensorRT\n",
      "0it [00:00, ?it/s]\n"
     ]
    }
   ],
   "source": [
    "import pandas as pd\n",
    "import os\n",
    "from skimage.transform import resize\n",
    "from skimage.io import imread\n",
    "import numpy as np\n",
    "import matplotlib.pyplot as plt\n",
    "from sklearn import svm\n",
    "from sklearn.model_selection import GridSearchCV\n",
    "from sklearn.model_selection import train_test_split\n",
    "from sklearn.metrics import accuracy_score\n",
    "from sklearn.metrics import classification_report\n",
    "from tensorflow.keras.preprocessing.image import ImageDataGenerator\n",
    "from tensorflow.keras.preprocessing import image_dataset_from_directory\n",
    "import pickle\n",
    "from pickle import dump, load\n",
    "from PIL import Image\n",
    "from tqdm import tqdm\n",
    "tqdm().pandas()\n",
    "from google.cloud import storage\n",
    "import requests\n",
    "from io import BytesIO\n",
    "import random"
   ]
  },
  {
   "cell_type": "code",
   "execution_count": 5,
   "metadata": {},
   "outputs": [
    {
     "data": {
      "text/plain": [
       "'https://storage.googleapis.com/download/storage/v1/b/covid19_lewagon/o/COVID-19_Radiography_Dataset%2FCovid%2FCOVID-1.png?alt=media'"
      ]
     },
     "execution_count": 5,
     "metadata": {},
     "output_type": "execute_result"
    }
   ],
   "source": [
    "storage_client = storage.Client(\"wagon-bootcamp-415720\")\n",
    "bucket = storage_client.get_bucket('covid19_lewagon')\n",
    "blob = bucket.blob(\"COVID-19_Radiography_Dataset/Covid/COVID-1.png\")\n",
    "blob._get_download_url(storage_client)"
   ]
  },
  {
   "cell_type": "code",
=======
>>>>>>> a821f1a7f8cb88b19cac439d944c3e34f1d1b6d6
   "execution_count": null,
   "metadata": {},
   "outputs": [],
   "source": [
<<<<<<< HEAD
    "train_dir = \"/home/user/code/gulfairus/Covid19/raw_data/cloud/train_test/train\"\n",
    "test_dir = \"/home/user/code/gulfairus/Covid19/raw_data/cloud/train_test/test\"\n",
    "\n",
    "\n",
    "train_covid_dir = os.path.join(train_dir, \"COVID19\")\n",
    "train_normal_dir = os.path.join(train_dir, \"NORMAL\")\n",
    "train_pneumonia_dir = os.path.join(train_dir, \"PNEUMONIA\")\n",
    "train_opacity_dir = os.path.join(train_dir, \"OPACITY\")\n",
    "#directory with the testing images\n",
    "test_covid_dir = os.path.join(test_dir, \"COVID19\")\n",
    "test_normal_dir = os.path.join(test_dir, \"NORMAL\")\n",
    "test_pneumonia_dir = os.path.join(test_dir, \"PNEUMONIA\")\n",
    "test_opacity_dir = os.path.join(test_dir, \"OPACITY\")"
=======
    "print(\"hello\")"
>>>>>>> a821f1a7f8cb88b19cac439d944c3e34f1d1b6d6
   ]
  },
  {
   "cell_type": "code",
   "execution_count": null,
   "metadata": {},
   "outputs": [],
   "source": []
  }
 ],
 "metadata": {
<<<<<<< HEAD
  "kernelspec": {
   "display_name": "Covid19",
   "language": "python",
   "name": "python3"
  },
  "language_info": {
   "codemirror_mode": {
    "name": "ipython",
    "version": 3
   },
   "file_extension": ".py",
   "mimetype": "text/x-python",
   "name": "python",
   "nbconvert_exporter": "python",
   "pygments_lexer": "ipython3",
   "version": "3.10.6"
=======
  "language_info": {
   "name": "python"
>>>>>>> a821f1a7f8cb88b19cac439d944c3e34f1d1b6d6
  }
 },
 "nbformat": 4,
 "nbformat_minor": 2
}
