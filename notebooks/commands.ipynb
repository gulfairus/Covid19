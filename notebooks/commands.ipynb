{
 "cells": [
  {
   "cell_type": "code",
   "execution_count": null,
   "id": "7e4a00de",
   "metadata": {},
   "outputs": [],
   "source": [
    "# gsutil cp /mnt/c/Users/User/Downloads/images_002.tar.gz gs://lung_cancer1/  - copy files from local machine to google buckets\n",
    "# gcloud compute scp ~/Desktop/testing.png  s0p04bp@dms-2:/usr/lib/testing/ --zone=us-west1-b"
   ]
  },
  {
   "cell_type": "code",
   "execution_count": null,
   "id": "4bf7ee44",
   "metadata": {},
   "outputs": [],
   "source": []
  }
 ],
 "metadata": {
  "language_info": {
   "name": "python"
  }
 },
 "nbformat": 4,
 "nbformat_minor": 5
}
