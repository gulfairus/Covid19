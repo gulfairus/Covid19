{
 "cells": [
  {
   "cell_type": "code",
   "execution_count": 65,
   "metadata": {},
   "outputs": [
    {
     "name": "stderr",
     "output_type": "stream",
     "text": [
      "0it [00:00, ?it/s]\n"
     ]
    }
   ],
   "source": [
    "from tensorflow.keras.models import Sequential\n",
    "from tensorflow.keras.layers import Conv2D, MaxPooling2D, Dropout, Flatten, Dense, BatchNormalization, GlobalAveragePooling2D\n",
    "from tensorflow.keras.optimizers import Adam, RMSprop\n",
    "from tensorflow.keras.preprocessing.image import ImageDataGenerator\n",
    "from tensorflow.keras.preprocessing import image_dataset_from_directory\n",
    "from tensorflow.keras.layers.experimental.preprocessing import RandomFlip, RandomRotation, RandomContrast\n",
    "from tensorflow.keras.models import Model, load_model\n",
    "from tensorflow.keras.losses import SparseCategoricalCrossentropy\n",
    "from tensorflow.keras.regularizers import l2\n",
    "from tensorflow.keras import applications\n",
    "from tensorflow.keras.applications.efficientnet import EfficientNetB0, EfficientNetB7, preprocess_input\n",
    "from tensorflow.keras import Input\n",
    "import numpy as np\n",
    "import matplotlib.pyplot as plt\n",
    "from sklearn.model_selection import train_test_split\n",
    "import pickle\n",
    "from pickle import dump, load\n",
    "from PIL import Image\n",
    "from tqdm import tqdm\n",
    "tqdm().pandas()\n",
    "from google.cloud import storage\n",
    "import os"
   ]
  },
  {
   "cell_type": "code",
   "execution_count": 66,
   "metadata": {},
   "outputs": [],
   "source": [
    "# Initialise a client\n",
    "storage_client = storage.Client(\"wagon-bootcamp-415720\")\n",
    "# Create a bucket object for our bucket\n",
    "bucket = storage_client.get_bucket('covid19_lewagon')\n",
    "# Create a blob object from the filepath\n",
    "#blob = bucket.blob(\"COVID-19_Radiography_Dataset/Covid/*\")\n"
   ]
  },
  {
   "cell_type": "code",
   "execution_count": 91,
   "metadata": {},
   "outputs": [
    {
     "data": {
      "text/plain": [
       "'covid19_lewagon/COVID-19_Radiography_Dataset/Normal/Normal-1.png'"
      ]
     },
     "execution_count": 91,
     "metadata": {},
     "output_type": "execute_result"
    }
   ],
   "source": [
    "blob = bucket.blob(\"COVID-19_Radiography_Dataset/Normal/Normal-1.png\")\n",
    "blob.bucket.name + '/' + blob.name"
   ]
  },
  {
   "cell_type": "code",
   "execution_count": 75,
   "metadata": {},
   "outputs": [
    {
     "data": {
      "text/plain": [
       "460"
      ]
     },
     "execution_count": 75,
     "metadata": {},
     "output_type": "execute_result"
    }
   ],
   "source": [
    "covid1_names = []\n",
    "\n",
    "for blob in bucket.list_blobs(prefix='xray-dataset-covid-pneumonia/Covid19 (1)/'):\n",
    "    #normal_names.append(blob.name[36:])\n",
    "    covid1_names.append(blob.name)\n",
    "#covid1_names[:5]\n",
    "len(covid1_names)"
   ]
  },
  {
   "cell_type": "code",
   "execution_count": 79,
   "metadata": {},
   "outputs": [
    {
     "data": {
      "text/plain": [
       "243"
      ]
     },
     "execution_count": 79,
     "metadata": {},
     "output_type": "execute_result"
    }
   ],
   "source": [
    "covid2_names = []\n",
    "\n",
    "for blob in bucket.list_blobs(prefix='xray-dataset-covid-pneumonia/Covid19 (2)/'):\n",
    "    #normal_names.append(blob.name[36:])\n",
    "    covid2_names.append(blob.name)\n",
    "#covid1_names[:5]\n",
    "len(covid2_names)\n",
    "#covid2_names[:5]"
   ]
  },
  {
   "cell_type": "code",
   "execution_count": 77,
   "metadata": {},
   "outputs": [
    {
     "data": {
      "text/plain": [
       "3418"
      ]
     },
     "execution_count": 77,
     "metadata": {},
     "output_type": "execute_result"
    }
   ],
   "source": [
    "pneumonia2_names = []\n",
    "\n",
    "for blob in bucket.list_blobs(prefix='xray-dataset-covid-pneumonia/Pneumonia/'):\n",
    "    #normal_names.append(blob.name[36:])\n",
    "    pneumonia2_names.append(blob.name)\n",
    "#covid1_names[:5]\n",
    "len(pneumonia2_names)\n",
    "pneumonia2_names[:5]"
   ]
  },
  {
   "cell_type": "code",
   "execution_count": 70,
   "metadata": {},
   "outputs": [
    {
     "data": {
      "text/plain": [
       "['COVID-19_Radiography_Dataset/COVID/COVID-1.png',\n",
       " 'COVID-19_Radiography_Dataset/COVID/COVID-10.png',\n",
       " 'COVID-19_Radiography_Dataset/COVID/COVID-100.png',\n",
       " 'COVID-19_Radiography_Dataset/COVID/COVID-1000.png',\n",
       " 'COVID-19_Radiography_Dataset/COVID/COVID-1001.png']"
      ]
     },
     "execution_count": 70,
     "metadata": {},
     "output_type": "execute_result"
    }
   ],
   "source": [
    "covid_names = []\n",
    "for blob in bucket.list_blobs(prefix='COVID-19_Radiography_Dataset/COVID/'):\n",
    "    #normal_names.append(blob.name[36:])\n",
    "    covid_names.append(blob.name)\n",
    "covid_names[:5]"
   ]
  },
  {
   "cell_type": "code",
   "execution_count": 68,
   "metadata": {},
   "outputs": [
    {
     "data": {
      "text/plain": [
       "['COVID-19_Radiography_Dataset/Normal/Normal-1.png',\n",
       " 'COVID-19_Radiography_Dataset/Normal/Normal-10.png',\n",
       " 'COVID-19_Radiography_Dataset/Normal/Normal-100.png',\n",
       " 'COVID-19_Radiography_Dataset/Normal/Normal-1000.png',\n",
       " 'COVID-19_Radiography_Dataset/Normal/Normal-10000.png']"
      ]
     },
     "execution_count": 68,
     "metadata": {},
     "output_type": "execute_result"
    }
   ],
   "source": [
    "normal_names = []\n",
    "for blob in bucket.list_blobs(prefix='COVID-19_Radiography_Dataset/Normal/'):\n",
    "    #normal_names.append(blob.name[36:])\n",
    "    normal_names.append(blob.name)\n",
    "normal_names[:5]"
   ]
  },
  {
   "cell_type": "code",
   "execution_count": 71,
   "metadata": {},
   "outputs": [
    {
     "data": {
      "text/plain": [
       "['COVID-19_Radiography_Dataset/Viral Pneumonia/Viral Pneumonia-1.png',\n",
       " 'COVID-19_Radiography_Dataset/Viral Pneumonia/Viral Pneumonia-10.png',\n",
       " 'COVID-19_Radiography_Dataset/Viral Pneumonia/Viral Pneumonia-100.png',\n",
       " 'COVID-19_Radiography_Dataset/Viral Pneumonia/Viral Pneumonia-1000.png',\n",
       " 'COVID-19_Radiography_Dataset/Viral Pneumonia/Viral Pneumonia-1001.png']"
      ]
     },
     "execution_count": 71,
     "metadata": {},
     "output_type": "execute_result"
    }
   ],
   "source": [
    "pneumonia_names = []\n",
    "for blob in bucket.list_blobs(prefix='COVID-19_Radiography_Dataset/Viral Pneumonia/'):\n",
    "    #pneumonia_names.append(blob.name[45:])\n",
    "    pneumonia_names.append(blob.name)\n",
    "pneumonia_names[:5]"
   ]
  },
  {
   "cell_type": "code",
   "execution_count": 72,
   "metadata": {},
   "outputs": [
    {
     "data": {
      "text/plain": [
       "['COVID-19_Radiography_Dataset/Lung_Opacity/Lung_Opacity-1.png',\n",
       " 'COVID-19_Radiography_Dataset/Lung_Opacity/Lung_Opacity-10.png',\n",
       " 'COVID-19_Radiography_Dataset/Lung_Opacity/Lung_Opacity-100.png',\n",
       " 'COVID-19_Radiography_Dataset/Lung_Opacity/Lung_Opacity-1000.png',\n",
       " 'COVID-19_Radiography_Dataset/Lung_Opacity/Lung_Opacity-1001.png']"
      ]
     },
     "execution_count": 72,
     "metadata": {},
     "output_type": "execute_result"
    }
   ],
   "source": [
    "opacity_names = []\n",
    "for blob in bucket.list_blobs(prefix='COVID-19_Radiography_Dataset/Lung_Opacity/'):\n",
    "    #opacity_names.append(blob.name[42:])\n",
    "    opacity_names.append(blob.name)\n",
    "opacity_names[:5]"
   ]
  },
  {
   "cell_type": "code",
   "execution_count": null,
   "metadata": {},
   "outputs": [],
   "source": []
  },
  {
   "cell_type": "code",
   "execution_count": 73,
   "metadata": {},
   "outputs": [
    {
     "name": "stdout",
     "output_type": "stream",
     "text": [
      "3616\n",
      "10192\n",
      "1345\n",
      "6012\n",
      "21165\n"
     ]
    }
   ],
   "source": [
    "print(len(covid_names))\n",
    "print(len(normal_names))\n",
    "print(len(pneumonia_names))\n",
    "print(len(opacity_names))\n",
    "print(len(covid_names)+len(normal_names)+len(pneumonia_names)+len(opacity_names))"
   ]
  },
  {
   "cell_type": "code",
   "execution_count": 9,
   "metadata": {},
   "outputs": [],
   "source": [
    "import random\n",
    "random.shuffle(covid_names)\n",
    "random.shuffle(normal_names)\n",
    "random.shuffle(pneumonia_names)\n",
    "random.shuffle(opacity_names)\n",
    "train_covid_names, test_covid_names = train_test_split(covid_names, test_size=0.20, random_state=42)\n",
    "train_normal_names, test_normal_names = train_test_split(normal_names, test_size=0.20, random_state=42)\n",
    "train_pneumonia_names, test_pneumonia_names = train_test_split(pneumonia_names, test_size=0.20, random_state=42)\n",
    "train_opacity_names, test_opacity_names = train_test_split(opacity_names, test_size=0.20, random_state=42)"
   ]
  },
  {
   "cell_type": "code",
   "execution_count": 10,
   "metadata": {},
   "outputs": [
    {
     "name": "stdout",
     "output_type": "stream",
     "text": [
      "2892 724\n",
      "8153 2039\n",
      "1076 269\n",
      "4809 1203\n"
     ]
    }
   ],
   "source": [
    "print(len(train_covid_names), len(test_covid_names))\n",
    "print(len(train_normal_names), len(test_normal_names))\n",
    "print(len(train_pneumonia_names), len(test_pneumonia_names))\n",
    "print(len(train_opacity_names), len(test_opacity_names))"
   ]
  },
  {
   "cell_type": "markdown",
   "metadata": {},
   "source": [
    "#Data Visualization"
   ]
  },
  {
   "cell_type": "code",
   "execution_count": null,
   "metadata": {},
   "outputs": [],
   "source": [
    "covid19_lewagon/COVID-19_Radiography_Dataset/COVID\n",
    "\n",
    "COVID-19_Radiography_Dataset/COVID/COVID-1197.png"
   ]
  },
  {
   "cell_type": "code",
   "execution_count": 113,
   "metadata": {},
   "outputs": [
    {
     "ename": "ValueError",
     "evalue": "Please open the URL for reading and pass the result to Pillow, e.g. with ``np.array(PIL.Image.open(urllib.request.urlopen(url)))``.",
     "output_type": "error",
     "traceback": [
      "\u001b[0;31m---------------------------------------------------------------------------\u001b[0m",
      "\u001b[0;31mValueError\u001b[0m                                Traceback (most recent call last)",
      "Cell \u001b[0;32mIn[113], line 60\u001b[0m\n\u001b[1;32m     57\u001b[0m img \u001b[38;5;241m=\u001b[39m \u001b[38;5;124mf\u001b[39m\u001b[38;5;124m\"\u001b[39m\u001b[38;5;124mhttps://storage.googleapis.com/covid19_lewagon/\u001b[39m\u001b[38;5;132;01m{\u001b[39;00mimg_path\u001b[38;5;132;01m}\u001b[39;00m\u001b[38;5;124m\"\u001b[39m\n\u001b[1;32m     58\u001b[0m \u001b[38;5;66;03m#response = requests.get(img)\u001b[39;00m\n\u001b[1;32m     59\u001b[0m \u001b[38;5;66;03m#img = Image.open(BytesIO(response.content))\u001b[39;00m\n\u001b[0;32m---> 60\u001b[0m a \u001b[38;5;241m=\u001b[39m \u001b[43mplt\u001b[49m\u001b[38;5;241;43m.\u001b[39;49m\u001b[43mimread\u001b[49m\u001b[43m(\u001b[49m\u001b[43mimg\u001b[49m\u001b[43m)\u001b[49m\n\u001b[1;32m     61\u001b[0m plt\u001b[38;5;241m.\u001b[39mimshow(a)\n\u001b[1;32m     67\u001b[0m \u001b[38;5;66;03m#img = Image.open(urlopen(img))\u001b[39;00m\n\u001b[1;32m     68\u001b[0m \u001b[38;5;66;03m#img.show()\u001b[39;00m\n\u001b[1;32m     69\u001b[0m \n\u001b[0;32m   (...)\u001b[0m\n\u001b[1;32m     75\u001b[0m \n\u001b[1;32m     76\u001b[0m \u001b[38;5;66;03m#im.show()\u001b[39;00m\n",
      "File \u001b[0;32m~/.pyenv/versions/3.10.6/envs/Covid19/lib/python3.10/site-packages/matplotlib/pyplot.py:2404\u001b[0m, in \u001b[0;36mimread\u001b[0;34m(fname, format)\u001b[0m\n\u001b[1;32m   2400\u001b[0m \u001b[38;5;129m@_copy_docstring_and_deprecators\u001b[39m(matplotlib\u001b[38;5;241m.\u001b[39mimage\u001b[38;5;241m.\u001b[39mimread)\n\u001b[1;32m   2401\u001b[0m \u001b[38;5;28;01mdef\u001b[39;00m \u001b[38;5;21mimread\u001b[39m(\n\u001b[1;32m   2402\u001b[0m         fname: \u001b[38;5;28mstr\u001b[39m \u001b[38;5;241m|\u001b[39m pathlib\u001b[38;5;241m.\u001b[39mPath \u001b[38;5;241m|\u001b[39m BinaryIO, \u001b[38;5;28mformat\u001b[39m: \u001b[38;5;28mstr\u001b[39m \u001b[38;5;241m|\u001b[39m \u001b[38;5;28;01mNone\u001b[39;00m \u001b[38;5;241m=\u001b[39m \u001b[38;5;28;01mNone\u001b[39;00m\n\u001b[1;32m   2403\u001b[0m ) \u001b[38;5;241m-\u001b[39m\u001b[38;5;241m>\u001b[39m np\u001b[38;5;241m.\u001b[39mndarray:\n\u001b[0;32m-> 2404\u001b[0m     \u001b[38;5;28;01mreturn\u001b[39;00m \u001b[43mmatplotlib\u001b[49m\u001b[38;5;241;43m.\u001b[39;49m\u001b[43mimage\u001b[49m\u001b[38;5;241;43m.\u001b[39;49m\u001b[43mimread\u001b[49m\u001b[43m(\u001b[49m\u001b[43mfname\u001b[49m\u001b[43m,\u001b[49m\u001b[43m \u001b[49m\u001b[38;5;28;43mformat\u001b[39;49m\u001b[43m)\u001b[49m\n",
      "File \u001b[0;32m~/.pyenv/versions/3.10.6/envs/Covid19/lib/python3.10/site-packages/matplotlib/image.py:1520\u001b[0m, in \u001b[0;36mimread\u001b[0;34m(fname, format)\u001b[0m\n\u001b[1;32m   1516\u001b[0m img_open \u001b[38;5;241m=\u001b[39m (\n\u001b[1;32m   1517\u001b[0m     PIL\u001b[38;5;241m.\u001b[39mPngImagePlugin\u001b[38;5;241m.\u001b[39mPngImageFile \u001b[38;5;28;01mif\u001b[39;00m ext \u001b[38;5;241m==\u001b[39m \u001b[38;5;124m'\u001b[39m\u001b[38;5;124mpng\u001b[39m\u001b[38;5;124m'\u001b[39m \u001b[38;5;28;01melse\u001b[39;00m PIL\u001b[38;5;241m.\u001b[39mImage\u001b[38;5;241m.\u001b[39mopen)\n\u001b[1;32m   1518\u001b[0m \u001b[38;5;28;01mif\u001b[39;00m \u001b[38;5;28misinstance\u001b[39m(fname, \u001b[38;5;28mstr\u001b[39m) \u001b[38;5;129;01mand\u001b[39;00m \u001b[38;5;28mlen\u001b[39m(parse\u001b[38;5;241m.\u001b[39murlparse(fname)\u001b[38;5;241m.\u001b[39mscheme) \u001b[38;5;241m>\u001b[39m \u001b[38;5;241m1\u001b[39m:\n\u001b[1;32m   1519\u001b[0m     \u001b[38;5;66;03m# Pillow doesn't handle URLs directly.\u001b[39;00m\n\u001b[0;32m-> 1520\u001b[0m     \u001b[38;5;28;01mraise\u001b[39;00m \u001b[38;5;167;01mValueError\u001b[39;00m(\n\u001b[1;32m   1521\u001b[0m         \u001b[38;5;124m\"\u001b[39m\u001b[38;5;124mPlease open the URL for reading and pass the \u001b[39m\u001b[38;5;124m\"\u001b[39m\n\u001b[1;32m   1522\u001b[0m         \u001b[38;5;124m\"\u001b[39m\u001b[38;5;124mresult to Pillow, e.g. with \u001b[39m\u001b[38;5;124m\"\u001b[39m\n\u001b[1;32m   1523\u001b[0m         \u001b[38;5;124m\"\u001b[39m\u001b[38;5;124m``np.array(PIL.Image.open(urllib.request.urlopen(url)))``.\u001b[39m\u001b[38;5;124m\"\u001b[39m\n\u001b[1;32m   1524\u001b[0m         )\n\u001b[1;32m   1525\u001b[0m \u001b[38;5;28;01mwith\u001b[39;00m img_open(fname) \u001b[38;5;28;01mas\u001b[39;00m image:\n\u001b[1;32m   1526\u001b[0m     \u001b[38;5;28;01mreturn\u001b[39;00m (_pil_png_to_float_array(image)\n\u001b[1;32m   1527\u001b[0m             \u001b[38;5;28;01mif\u001b[39;00m \u001b[38;5;28misinstance\u001b[39m(image, PIL\u001b[38;5;241m.\u001b[39mPngImagePlugin\u001b[38;5;241m.\u001b[39mPngImageFile) \u001b[38;5;28;01melse\u001b[39;00m\n\u001b[1;32m   1528\u001b[0m             pil_to_array(image))\n",
      "\u001b[0;31mValueError\u001b[0m: Please open the URL for reading and pass the result to Pillow, e.g. with ``np.array(PIL.Image.open(urllib.request.urlopen(url)))``."
     ]
    },
    {
     "data": {
      "image/png": "[encoded data removed]",
      "text/plain": [
       "<Figure size 1200x1200 with 1 Axes>"
      ]
     },
     "metadata": {},
     "output_type": "display_data"
    }
   ],
   "source": [
    "# plot a grid of 16 images (8 images of Covid19 and 8 images of Normal)\n",
    "import matplotlib.image as mpimg\n",
    "from PIL import Image\n",
    "#from PIL import Image\n",
    "import requests\n",
    "from io import BytesIO\n",
    "import urllib.request\n",
    "from PIL import Image\n",
    "from urllib.request import urlopen\n",
    "\n",
    "#set the number of columns and rows\n",
    "rows = 4\n",
    "cols = 4\n",
    "\n",
    "#set the figure size\n",
    "fig = plt.gcf()\n",
    "fig.set_size_inches(12,12)\n",
    "\n",
    "#get the filenames from the covid & normal dir of the train dataset\n",
    "#covid_pic = [os.path.join(train_covid_dir, filename) for filename in train_covid_names[0:4]]\n",
    "#normal_pic = [os.path.join(train_normal_dir, filename) for filename in train_normal_names[0:4]]\n",
    "#pneumonia_pic = [os.path.join(train_pneumonia_dir, filename) for filename in train_pneumonia_names[0:4]]\n",
    "#opacity_pic = [os.path.join(train_opacity_dir, filename) for filename in train_opacity_names[0:4]]\n",
    "#print the list\n",
    "#print(covid_pic)\n",
    "#print(normal_pic)\n",
    "#print(pneumonia_pic)\n",
    "#print(opacity_pic)\n",
    "#merge the covid and normal list\n",
    "merged_list = train_covid_names[0:4]+train_normal_names[0:4]+train_pneumonia_names[0:4]+train_opacity_names[0:4]\n",
    "#merged_list = covid_pic+normal_pic+pneumonia_pic+opacity_pic\n",
    "for i, img_path in enumerate(merged_list):\n",
    "    #print(img_path.split(\"/\", 6)[-1])\n",
    "    #print('covid19_lewagon' + '/' + img_path)\n",
    "\n",
    "\n",
    "    data = img_path.split(\"/\",6)[-1]\n",
    "    sp = plt.subplot(rows, cols, i+1)\n",
    "    sp.axis(\"off\")\n",
    "\n",
    "#for image_path in merged_list:\n",
    " #   image_data = mpimg.imread(image_path)\n",
    " #   blob_name = f\"COVID-19_Radiography_Dataset/Normal/{image_path}\"\n",
    " ##   bucket = storage_client('covid19_lewagon')\n",
    " #   blob = bucket.blob(blob_name)\n",
    " #   blob.upload_from_string(image_data.tobytes(), content_type='image/png')\n",
    "\n",
    "    #img = mpimg.imread('gs://covid19_lewagon' + '/' + img_path)\n",
    "    sp.set_title(data[-18:], fontsize=10)\n",
    "    #plt.imshow(img, cmap=\"gray\")\n",
    "\n",
    "    #gs://covid19_lewagon/COVID-19_Radiography_Dataset/COVID/COVID-1.png\n",
    "    #https://storage.googleapis.com/covid19_lewagon/COVID-19_Radiography_Dataset/COVID/COVID-1002.png\n",
    "    #https://storage.cloud.google.com/covid19_lewagon/COVID-19_Radiography_Dataset/COVID/COVID-1001.png\n",
    "\n",
    "    #img = f\"https://storage.cloud.google.com/covid19_lewagon/{img_path}\"\n",
    "    img = f\"https://storage.googleapis.com/covid19_lewagon/{img_path}\"\n",
    "    #response = requests.get(img)\n",
    "    #img = Image.open(BytesIO(response.content))\n",
    "    a = plt.imread(img)\n",
    "    plt.imshow(a)\n",
    "\n",
    "\n",
    "\n",
    "\n",
    "\n",
    "    #img = Image.open(urlopen(img))\n",
    "    #img.show()\n",
    "\n",
    "\n",
    "\n",
    "\n",
    "# creating a object\n",
    "    #im = Image.open(img)\n",
    "\n",
    "    #im.show()\n",
    "\n",
    "plt.show()"
   ]
  },
  {
   "cell_type": "code",
   "execution_count": null,
   "metadata": {},
   "outputs": [],
   "source": [
    "\n",
    "main_dir = \"/content/drive/My Drive/data/viral/COVID-19_Radiography_Dataset/\"\n",
    "covid = os.path.join(main_dir, \"COVID\")\n",
    "normal = os.path.join(main_dir, \"Normal\")\n",
    "pneumonia = os.path.join(main_dir, \"Viral Pneumonia\")\n",
    "opacity = os.path.join(main_dir, \"Lung_Opacity\")"
   ]
  },
  {
   "cell_type": "code",
   "execution_count": null,
   "metadata": {},
   "outputs": [],
   "source": [
    "covid_names = os.listdir(covid)\n",
    "normal_names = os.listdir(normal)\n",
    "pneumonia_names = os.listdir(pneumonia)\n",
    "opacity_names = os.listdir(opacity)"
   ]
  },
  {
   "cell_type": "code",
   "execution_count": null,
   "metadata": {},
   "outputs": [],
   "source": [
    "print(len(covid_names))\n",
    "print(len(normal_names))\n",
    "print(len(pneumonia_names))\n",
    "print(len(opacity_names))\n",
    "print(len(covid_names)+len(normal_names)+len(pneumonia_names)+len(opacity_names))"
   ]
  },
  {
   "cell_type": "code",
   "execution_count": null,
   "metadata": {},
   "outputs": [],
   "source": [
    "print(covid_names[:10])\n",
    "print(normal_names[:10])\n",
    "print(pneumonia_names[:10])\n",
    "print(opacity_names[:10])"
   ]
  }
 ],
 "metadata": {
  "kernelspec": {
   "display_name": "Covid19",
   "language": "python",
   "name": "python3"
  },
  "language_info": {
   "codemirror_mode": {
    "name": "ipython",
    "version": 3
   },
   "file_extension": ".py",
   "mimetype": "text/x-python",
   "name": "python",
   "nbconvert_exporter": "python",
   "pygments_lexer": "ipython3",
   "version": "3.10.6"
  }
 },
 "nbformat": 4,
 "nbformat_minor": 2
}
