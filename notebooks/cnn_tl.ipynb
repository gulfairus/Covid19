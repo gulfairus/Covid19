{
  "cells": [
    {
      "cell_type": "markdown",
      "metadata": {
        "id": "7Coj5hSjonTE"
      },
      "source": [
        "# CNN - Transfer Learning"
      ]
    },
    {
      "cell_type": "markdown",
      "metadata": {
        "id": "6FILDDXjonTO"
      },
      "source": [
        "Test VGG16 vs EfficientNet"
      ]
    },
    {
      "cell_type": "markdown",
      "source": [
        "## Import modules"
      ],
      "metadata": {
        "id": "rOEOi2DnqFIx"
      }
    },
    {
      "cell_type": "code",
      "source": [
        "import time\n",
        "from google.colab import drive\n",
        "import matplotlib.pyplot as plt\n",
        "from tensorflow.keras.preprocessing.image import ImageDataGenerator\n",
        "from tensorflow.keras import Sequential, layers, models\n",
        "from tensorflow.keras import optimizers\n",
        "from tensorflow.keras.callbacks import EarlyStopping\n",
        "from tensorflow.keras.layers.experimental.preprocessing import Rescaling\n",
        "from tensorflow.keras.applications.efficientnet import EfficientNetB7, preprocess_input"
      ],
      "metadata": {
        "id": "oh_MgMhTo2k5"
      },
      "execution_count": 16,
      "outputs": []
    },
    {
      "cell_type": "markdown",
      "metadata": {
        "id": "xZZ2kLLzonTQ"
      },
      "source": [
        "## Define directories"
      ]
    },
    {
      "cell_type": "code",
      "source": [
        "## For use local machine\n",
        "# import os\n",
        "# project_path='.../Covid19/raw_data/cloud/train_test/'\n",
        "# train_dir = os.path.join(project_path, 'train')\n",
        "# test_dir = os.path.join(project_path, 'test')"
      ],
      "metadata": {
        "id": "gESdMI_yrdgM"
      },
      "execution_count": null,
      "outputs": []
    },
    {
      "cell_type": "code",
      "execution_count": 4,
      "metadata": {
        "colab": {
          "base_uri": "https://localhost:8080/"
        },
        "id": "YYKwZuMyonTY",
        "outputId": "22ef5a17-687c-40e0-c530-6b107837369f"
      },
      "outputs": [
        {
          "output_type": "stream",
          "name": "stdout",
          "text": [
            "Mounted at /content/drive\n"
          ]
        }
      ],
      "source": [
        "## For use Google Colab (mount Google Drive)\n",
        "drive.mount('/content/drive')\n",
        "project_path=\"/content/drive/MyDrive/train_test\"\n",
        "train_dir = f\"{project_path}/train\"\n",
        "test_dir = f\"{project_path}/test\""
      ]
    },
    {
      "cell_type": "markdown",
      "metadata": {
        "id": "UEM7oKunonTo"
      },
      "source": [
        "## Create Generators"
      ]
    },
    {
      "cell_type": "markdown",
      "metadata": {
        "id": "eXxHggaUonTp"
      },
      "source": [
        "https://vijayabhaskar96.medium.com/tutorial-image-classification-with-keras-flow-from-directory-and-generators-95f75ebe5720"
      ]
    },
    {
      "cell_type": "markdown",
      "source": [
        "### Versão antiga"
      ],
      "metadata": {
        "id": "3VwbZ0nFxKo8"
      }
    },
    {
      "cell_type": "code",
      "execution_count": 31,
      "metadata": {
        "colab": {
          "base_uri": "https://localhost:8080/"
        },
        "id": "ni5CKpNIonTv",
        "outputId": "20fe4659-2fab-42b7-f746-2f6822a0f3cc"
      },
      "outputs": [
        {
          "output_type": "stream",
          "name": "stdout",
          "text": [
            "Found 13648 files belonging to 4 classes.\n",
            "Using 10919 files for training.\n",
            "Found 13648 files belonging to 4 classes.\n",
            "Using 2729 files for validation.\n",
            "Found 14 files belonging to 4 classes.\n"
          ]
        }
      ],
      "source": [
        "#from tensorflow.keras.preprocessing import image_dataset_from_directory\n",
        "\n",
        "# train_generator = image_dataset_from_directory(train_dir,\n",
        "#                                                labels=\"inferred\",\n",
        "#                                                color_mode='grayscale',\n",
        "#                                                batch_size = 32,\n",
        "#                                                image_size=(224,224),\n",
        "#                                                seed=42,\n",
        "#                                                label_mode = \"categorical\",\n",
        "#                                                validation_split=0.2,\n",
        "#                                                subset = \"training\")\n",
        "\n",
        "# validation_generator = image_dataset_from_directory(train_dir,\n",
        "#                                                labels=\"inferred\",\n",
        "#                                                color_mode='grayscale',\n",
        "#                                                batch_size = 32,\n",
        "#                                                image_size=(224,224),\n",
        "#                                                seed=42,\n",
        "#                                                label_mode = \"categorical\",\n",
        "#                                                validation_split=0.2,\n",
        "#                                                subset = \"validation\")\n",
        "\n",
        "# test_generator = image_dataset_from_directory(test_dir,\n",
        "#                                               labels=\"inferred\",\n",
        "#                                               batch_size = 32,\n",
        "#                                               color_mode='grayscale',\n",
        "#                                               image_size=(224,224),\n",
        "#                                               seed=42,\n",
        "#                                               label_mode = \"categorical\")"
      ]
    },
    {
      "cell_type": "markdown",
      "source": [
        "### Nova versão"
      ],
      "metadata": {
        "id": "nDlffD-IxVXg"
      }
    },
    {
      "cell_type": "code",
      "source": [
        "\"\"\"\n",
        "Result a generator with shape (150,150,3)\n",
        "\"\"\"\n",
        "# Create a generator with augmentation for training and validation:\n",
        "dgen_train = ImageDataGenerator(rescale = 1./255,\n",
        "                                validation_split=0.2,\n",
        "                                shear_range=0.2,\n",
        "                                zoom_range = 0.2,\n",
        "                                horizontal_flip = False)\n",
        "\n",
        "# Create a generator without augmentation for test:\n",
        "dgen_test = ImageDataGenerator(rescale=1./255)\n",
        "\n",
        "# Make generators by directories:\n",
        "# The classes wiil be the subdirectories\n",
        "train_generator = dgen_train.flow_from_directory(train_dir,\n",
        "                                                target_size=(150,150),\n",
        "                                                subset = \"training\",\n",
        "                                                batch_size = 32,\n",
        "                                                class_mode = \"categorical\")\n",
        "\n",
        "validation_generator = dgen_train.flow_from_directory(train_dir,\n",
        "                                                target_size=(150,150),\n",
        "                                                subset = \"validation\",\n",
        "                                                batch_size = 32,\n",
        "                                                class_mode = \"categorical\")\n",
        "\n",
        "test_generator = dgen_test.flow_from_directory(test_dir,\n",
        "                                                target_size=(150,150),\n",
        "                                                batch_size = 32,\n",
        "                                                class_mode = \"categorical\")\n",
        "\n"
      ],
      "metadata": {
        "colab": {
          "base_uri": "https://localhost:8080/"
        },
        "id": "CoQ7m95QxgV6",
        "outputId": "4e3e3559-488b-4f37-c374-d04854b6c29b"
      },
      "execution_count": 8,
      "outputs": [
        {
          "output_type": "stream",
          "name": "stdout",
          "text": [
            "Found 16183 images belonging to 4 classes.\n",
            "Found 4044 images belonging to 4 classes.\n",
            "Found 5059 images belonging to 4 classes.\n"
          ]
        }
      ]
    },
    {
      "cell_type": "code",
      "source": [
        "train_generator.image_shape"
      ],
      "metadata": {
        "colab": {
          "base_uri": "https://localhost:8080/"
        },
        "id": "kDfOYXRm0fXJ",
        "outputId": "e106fb19-f32b-4872-9738-e1192e1cb168"
      },
      "execution_count": 11,
      "outputs": [
        {
          "output_type": "execute_result",
          "data": {
            "text/plain": [
              "(150, 150, 3)"
            ]
          },
          "metadata": {},
          "execution_count": 11
        }
      ]
    },
    {
      "cell_type": "markdown",
      "metadata": {
        "id": "IH6Qdjp8onTy"
      },
      "source": [
        "## Test a Simple CNN model"
      ]
    },
    {
      "cell_type": "code",
      "execution_count": 32,
      "metadata": {
        "id": "Db1aOBNDonTz"
      },
      "outputs": [],
      "source": [
        "def load_own_model(input_shape):\n",
        "\n",
        "    model = Sequential()\n",
        "    model.add(Rescaling(1./255, input_shape=input_shape))\n",
        "\n",
        "    model.add(layers.Conv2D(16, kernel_size=16, activation='relu'))\n",
        "    model.add(layers.AveragePooling2D(4))\n",
        "    model.add(layers.Dropout(0.3))\n",
        "\n",
        "    model.add(layers.Conv2D(32, kernel_size=8, activation=\"relu\"))\n",
        "    model.add(layers.AveragePooling2D(4))\n",
        "    model.add(layers.Dropout(0.3))\n",
        "\n",
        "    # model.add(layers.Conv2D(32, kernel_size=6, activation=\"relu\"))\n",
        "    # model.add(layers.MaxPooling2D(4))\n",
        "    # model.add(layers.Dropout(0.2))\n",
        "\n",
        "    model.add(layers.Flatten())\n",
        "    model.add(layers.Dense(16, activation='relu'))\n",
        "    model.add(layers.Dropout(0.3))\n",
        "    model.add(layers.Dense(4, activation='softmax'))\n",
        "\n",
        "    opt = optimizers.Adam(learning_rate=1e-4)\n",
        "    model.compile(loss='categorical_crossentropy',\n",
        "                  optimizer=opt,\n",
        "                  metrics=['accuracy'])\n",
        "\n",
        "    return model"
      ]
    },
    {
      "cell_type": "code",
      "execution_count": 33,
      "metadata": {
        "colab": {
          "base_uri": "https://localhost:8080/"
        },
        "id": "05VpdtoronT5",
        "outputId": "d97657fd-e781-4821-aec6-2e3e0e84edd6"
      },
      "outputs": [
        {
          "output_type": "stream",
          "name": "stdout",
          "text": [
            "Model: \"sequential_3\"\n",
            "_________________________________________________________________\n",
            " Layer (type)                Output Shape              Param #   \n",
            "=================================================================\n",
            " rescaling_3 (Rescaling)     (None, 224, 224, 1)       0         \n",
            "                                                                 \n",
            " conv2d_7 (Conv2D)           (None, 215, 215, 16)      1616      \n",
            "                                                                 \n",
            " max_pooling2d_7 (MaxPoolin  (None, 53, 53, 16)        0         \n",
            " g2D)                                                            \n",
            "                                                                 \n",
            " dropout_4 (Dropout)         (None, 53, 53, 16)        0         \n",
            "                                                                 \n",
            " conv2d_8 (Conv2D)           (None, 46, 46, 32)        32800     \n",
            "                                                                 \n",
            " max_pooling2d_8 (MaxPoolin  (None, 11, 11, 32)        0         \n",
            " g2D)                                                            \n",
            "                                                                 \n",
            " dropout_5 (Dropout)         (None, 11, 11, 32)        0         \n",
            "                                                                 \n",
            " conv2d_9 (Conv2D)           (None, 6, 6, 32)          36896     \n",
            "                                                                 \n",
            " max_pooling2d_9 (MaxPoolin  (None, 1, 1, 32)          0         \n",
            " g2D)                                                            \n",
            "                                                                 \n",
            " dropout_6 (Dropout)         (None, 1, 1, 32)          0         \n",
            "                                                                 \n",
            " flatten_2 (Flatten)         (None, 32)                0         \n",
            "                                                                 \n",
            " dense_4 (Dense)             (None, 100)               3300      \n",
            "                                                                 \n",
            " dropout_7 (Dropout)         (None, 100)               0         \n",
            "                                                                 \n",
            " dense_5 (Dense)             (None, 4)                 404       \n",
            "                                                                 \n",
            "=================================================================\n",
            "Total params: 75016 (293.03 KB)\n",
            "Trainable params: 75016 (293.03 KB)\n",
            "Non-trainable params: 0 (0.00 Byte)\n",
            "_________________________________________________________________\n"
          ]
        }
      ],
      "source": [
        "model_homemade = load_own_model(input_shape=train_generator.image_shape)\n",
        "model_homemade.summary()"
      ]
    },
    {
      "cell_type": "code",
      "execution_count": 36,
      "metadata": {
        "colab": {
          "base_uri": "https://localhost:8080/"
        },
        "id": "lD578Mb3onT_",
        "outputId": "480010d6-7c9e-4c20-aa41-07d2b1599df6"
      },
      "outputs": [
        {
          "output_type": "stream",
          "name": "stdout",
          "text": [
            "1/1 [==============================] - 2s 2s/step - loss: 3.2669 - accuracy: 0.0000e+00\n"
          ]
        },
        {
          "output_type": "execute_result",
          "data": {
            "text/plain": [
              "[3.2669475078582764, 0.0]"
            ]
          },
          "metadata": {},
          "execution_count": 36
        }
      ],
      "source": [
        "model_homemade.evaluate(test_generator)"
      ]
    },
    {
      "cell_type": "code",
      "source": [
        "history.history"
      ],
      "metadata": {
        "id": "lvwgoG_05EBi"
      },
      "execution_count": null,
      "outputs": []
    },
    {
      "cell_type": "code",
      "execution_count": 20,
      "metadata": {
        "id": "GcdIQ3XRonUA"
      },
      "outputs": [],
      "source": [
        "def plot_history(history, title='', axs=None, exp_name=\"\"):\n",
        "    if axs is not None:\n",
        "        ax1, ax2 = axs\n",
        "    else:\n",
        "        f, (ax1, ax2) = plt.subplots(1, 2, figsize=(12, 4))\n",
        "\n",
        "    if len(exp_name) > 0 and exp_name[0] != '_':\n",
        "        exp_name = '_' + exp_name\n",
        "    ax1.plot(history.history['loss'], label='train' + exp_name)\n",
        "    ax1.plot(history.history['val_loss'], label='validation' + exp_name)\n",
        "    #ax1.set_ylim(0., 2.2)\n",
        "    ax1.set_title('loss')\n",
        "    ax1.legend()\n",
        "\n",
        "    ax2.plot(history.history['accuracy'], label='train'  + exp_name)\n",
        "    ax2.plot(history.history['val_accuracy'], label='validation'  + exp_name)\n",
        "    #ax2.set_ylim(0.25, 1.)\n",
        "    ax2.set_title('Accuracy')\n",
        "    ax2.legend()\n",
        "    return (ax1, ax2)"
      ]
    },
    {
      "cell_type": "code",
      "execution_count": 48,
      "metadata": {
        "colab": {
          "base_uri": "https://localhost:8080/",
          "height": 391
        },
        "id": "7QkH8NelonUH",
        "outputId": "46dbbc4c-3a44-4659-ab76-cfa92d92a152"
      },
      "outputs": [
        {
          "output_type": "display_data",
          "data": {
            "text/plain": [
              "<Figure size 1200x400 with 2 Axes>"
            ],
            "image/png": "[encoded data removed]"
          },
          "metadata": {}
        }
      ],
      "source": [
        "plot_history(history);"
      ]
    },
    {
      "cell_type": "markdown",
      "metadata": {
        "id": "Eyj3QAqsonUI"
      },
      "source": [
        "## Test VGG16"
      ]
    },
    {
      "cell_type": "markdown",
      "metadata": {
        "id": "YlGw5imNonUJ"
      },
      "source": []
    },
    {
      "cell_type": "markdown",
      "metadata": {
        "id": "Yex63mWHonUJ"
      },
      "source": [
        "## Test EfficientNet"
      ]
    },
    {
      "cell_type": "code",
      "source": [
        "#preproc_layer = preprocess_input(train_generator)\n",
        "base_model = EfficientNetB7(input_shape = train_generator.image_shape, include_top = False, weights = 'imagenet')\n",
        "base_model.trainable = False\n",
        "pooling_layer = layers.MaxPooling2D()\n",
        "flatten_layer = layers.Flatten()\n",
        "dense_layer = layers.Dense(32, activation='relu')\n",
        "dense_layer = layers.Dense(32, activation='relu')\n",
        "dropout_layer = layers.Dropout(0.2)\n",
        "prediction_layer = layers.Dense(4, activation='softmax')\n",
        "\n",
        "efficient = models.Sequential([\n",
        "        #preproc_layer,\n",
        "        base_model,\n",
        "        pooling_layer,\n",
        "        flatten_layer,\n",
        "        dense_layer,\n",
        "        dropout_layer,\n",
        "        prediction_layer\n",
        "    ])"
      ],
      "metadata": {
        "colab": {
          "base_uri": "https://localhost:8080/"
        },
        "id": "oAAMxeNQEqb_",
        "outputId": "f15a7f1f-29cb-4132-d8a1-98536f07912f"
      },
      "execution_count": 12,
      "outputs": [
        {
          "output_type": "stream",
          "name": "stdout",
          "text": [
            "Downloading data from https://storage.googleapis.com/keras-applications/efficientnetb7_notop.h5\n",
            "258076736/258076736 [==============================] - 1s 0us/step\n"
          ]
        }
      ]
    },
    {
      "cell_type": "code",
      "source": [
        "efficient.compile(loss='categorical_crossentropy',\n",
        "                  optimizer=optimizers.Adam(learning_rate=1e-4),\n",
        "                  metrics=['accuracy'])"
      ],
      "metadata": {
        "id": "9q_5vCxvKc5Z"
      },
      "execution_count": 13,
      "outputs": []
    },
    {
      "cell_type": "code",
      "source": [
        "es = EarlyStopping(monitor = 'val_loss',\n",
        "                   patience = 5,\n",
        "                   verbose = 1,\n",
        "                   restore_best_weights = True)"
      ],
      "metadata": {
        "id": "fFIvuRqvK9zI"
      },
      "execution_count": 14,
      "outputs": []
    },
    {
      "cell_type": "code",
      "source": [
        "start = time.perf_counter()\n",
        "history = efficient.fit(train_generator,\n",
        "                        batch_size = 32,\n",
        "                        validation_data=validation_generator,\n",
        "                        epochs = 20,\n",
        "                        callbacks=[es])\n",
        "end = time.perf_counter()\n",
        "print(f\"\\n✅ Total time: ({round(end - start, 2)}s)\")"
      ],
      "metadata": {
        "colab": {
          "base_uri": "https://localhost:8080/"
        },
        "id": "HJQ1xseIvX0P",
        "outputId": "bbc1fc1b-2624-4e03-bbe8-8995ee753017"
      },
      "execution_count": 17,
      "outputs": [
        {
          "output_type": "stream",
          "name": "stdout",
          "text": [
            "Epoch 1/10\n",
            "506/506 [==============================] - 5497s 11s/step - loss: 1.3453 - accuracy: 0.3753 - val_loss: 1.3256 - val_accuracy: 0.4031\n",
            "Epoch 2/10\n",
            "506/506 [==============================] - 3108s 6s/step - loss: 1.3399 - accuracy: 0.3803 - val_loss: 1.3345 - val_accuracy: 0.4031\n",
            "Epoch 3/10\n",
            "506/506 [==============================] - 3098s 6s/step - loss: 1.3405 - accuracy: 0.4022 - val_loss: 1.3505 - val_accuracy: 0.4031\n",
            "Epoch 4/10\n",
            "506/506 [==============================] - 3128s 6s/step - loss: 1.3456 - accuracy: 0.4031 - val_loss: 1.3370 - val_accuracy: 0.4031\n",
            "Epoch 5/10\n",
            "506/506 [==============================] - 3105s 6s/step - loss: 1.3444 - accuracy: 0.4031 - val_loss: 1.3317 - val_accuracy: 0.4031\n",
            "Epoch 6/10\n",
            "506/506 [==============================] - ETA: 0s - loss: 1.3367 - accuracy: 0.4031Restoring model weights from the end of the best epoch: 1.\n",
            "506/506 [==============================] - 3093s 6s/step - loss: 1.3367 - accuracy: 0.4031 - val_loss: 1.3264 - val_accuracy: 0.4031\n",
            "Epoch 6: early stopping\n",
            "\n",
            "✅ Total time: (21073.13s)\n"
          ]
        }
      ]
    },
    {
      "cell_type": "code",
      "source": [
        "efficient.evaluate(test_generator)"
      ],
      "metadata": {
        "colab": {
          "base_uri": "https://localhost:8080/"
        },
        "id": "h6sjMO0_Muf9",
        "outputId": "f860e2f0-059b-419e-ef71-4f0ae78c7291"
      },
      "execution_count": 18,
      "outputs": [
        {
          "output_type": "stream",
          "name": "stdout",
          "text": [
            "159/159 [==============================] - 1573s 10s/step - loss: 1.3241 - accuracy: 0.4030\n"
          ]
        },
        {
          "output_type": "execute_result",
          "data": {
            "text/plain": [
              "[1.3241044282913208, 0.40304407477378845]"
            ]
          },
          "metadata": {},
          "execution_count": 18
        }
      ]
    },
    {
      "cell_type": "code",
      "source": [
        "plot_history(history);"
      ],
      "metadata": {
        "colab": {
          "base_uri": "https://localhost:8080/",
          "height": 391
        },
        "id": "CTBxxuY8MxH6",
        "outputId": "b5417437-0871-4857-b00c-e8095ca80c63"
      },
      "execution_count": 21,
      "outputs": [
        {
          "output_type": "display_data",
          "data": {
            "text/plain": [
              "<Figure size 1200x400 with 2 Axes>"
            ],
            "image/png": "[encoded data removed]"
          },
          "metadata": {}
        }
      ]
    }
  ],
  "metadata": {
    "kernelspec": {
      "display_name": "Covid19",
      "language": "python",
      "name": "python3"
    },
    "language_info": {
      "codemirror_mode": {
        "name": "ipython",
        "version": 3
      },
      "file_extension": ".py",
      "mimetype": "text/x-python",
      "name": "python",
      "nbconvert_exporter": "python",
      "pygments_lexer": "ipython3",
      "version": "3.10.6"
    },
    "colab": {
      "provenance": [],
      "collapsed_sections": [
        "3VwbZ0nFxKo8"
      ]
    }
  },
  "nbformat": 4,
  "nbformat_minor": 0
}