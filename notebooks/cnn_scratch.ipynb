{
 "cells": [
  {
   "cell_type": "code",
   "execution_count": 6,
   "metadata": {},
   "outputs": [
    {
     "name": "stderr",
     "output_type": "stream",
     "text": [
      "0it [00:00, ?it/s]\n"
     ]
    }
   ],
   "source": [
    "from tensorflow.keras.models import Sequential\n",
    "from tensorflow.keras.layers import Conv2D, MaxPooling2D, Dropout, Flatten, Dense, BatchNormalization, GlobalAveragePooling2D\n",
    "from tensorflow.keras.optimizers import Adam, RMSprop\n",
    "from tensorflow.keras.preprocessing.image import ImageDataGenerator\n",
    "from tensorflow.keras.preprocessing import image_dataset_from_directory\n",
    "from tensorflow.keras.layers.experimental.preprocessing import RandomFlip, RandomRotation, RandomContrast\n",
    "from tensorflow.keras.models import Model, load_model\n",
    "from tensorflow.keras.losses import SparseCategoricalCrossentropy\n",
    "from tensorflow.keras.regularizers import l2\n",
    "from tensorflow.keras import applications\n",
    "from tensorflow.keras.applications.efficientnet import EfficientNetB0, EfficientNetB7, preprocess_input\n",
    "from tensorflow.keras import Input\n",
    "import numpy as np\n",
    "import matplotlib.pyplot as plt\n",
    "from sklearn.model_selection import train_test_split\n",
    "import pickle\n",
    "from pickle import dump, load\n",
    "from PIL import Image\n",
    "from tqdm import tqdm\n",
    "tqdm().pandas()\n",
    "from google.cloud import storage\n",
    "import os"
   ]
  },
  {
   "cell_type": "code",
   "execution_count": null,
   "metadata": {},
   "outputs": [],
   "source": [
    "def download_bucket_with_transfer_manager(\n",
    "    bucket_name, destination_directory=\"\", workers=8, max_results=1000\n",
    "):\n",
    "    from google.cloud.storage import Client, transfer_manager\n",
    "\n",
    "    storage_client = Client()\n",
    "    bucket = storage_client.bucket(bucket_name)\n",
    "\n",
    "    blob_names = [blob.name for blob in bucket.list_blobs(max_results=max_results)]\n",
    "\n",
    "    results = transfer_manager.download_many_to_path(\n",
    "        bucket, blob_names, destination_directory=destination_directory, max_workers=workers\n",
    "    )\n",
    "\n",
    "    for name, result in zip(blob_names, results):\n",
    "        # The results list is either `None` or an exception for each blob in\n",
    "        # the input list, in order.\n",
    "\n",
    "        if isinstance(result, Exception):\n",
    "            print(\"Failed to download {} due to exception: {}\".format(name, result))\n",
    "        else:\n",
    "            print(\"Downloaded {} to {}.\".format(name, destination_directory + name))"
   ]
  },
  {
   "cell_type": "code",
   "execution_count": null,
   "metadata": {},
   "outputs": [],
   "source": [
    "#download_bucket_with_transfer_manager(\n",
    "#    'covid19_lewagon', destination_directory=\"/home/user/code/gulfairus/Covid19/raw_data/cloud\", workers=8, max_results=25500\n",
    "#)"
   ]
  },
  {
   "cell_type": "code",
   "execution_count": 10,
   "metadata": {},
   "outputs": [
    {
     "name": "stdout",
     "output_type": "stream",
     "text": [
      "3616\n",
      "10192\n",
      "1345\n",
      "6012\n",
      "21165\n"
     ]
    }
   ],
   "source": [
    "import os\n",
    "main_dir = \"/home/user/code/gulfairus/Covid19/raw_data/cloud/COVID-19_Radiography_Dataset\"\n",
    "covid = os.path.join(main_dir, \"COVID\")\n",
    "normal = os.path.join(main_dir, \"Normal\")\n",
    "pneumonia = os.path.join(main_dir, \"Viral Pneumonia\")\n",
    "opacity = os.path.join(main_dir, \"Lung_Opacity\")\n",
    "covid_names = os.listdir(covid)\n",
    "normal_names = os.listdir(normal)\n",
    "pneumonia_names = os.listdir(pneumonia)\n",
    "opacity_names = os.listdir(opacity)\n",
    "print(len(covid_names))\n",
    "print(len(normal_names))\n",
    "print(len(pneumonia_names))\n",
    "print(len(opacity_names))\n",
    "print(len(covid_names)+len(normal_names)+len(pneumonia_names)+len(opacity_names))\n"
   ]
  },
  {
   "cell_type": "code",
   "execution_count": 8,
   "metadata": {},
   "outputs": [],
   "source": [
    "covid_names = os.listdir(covid)\n",
    "normal_names = os.listdir(normal)\n",
    "pneumonia_names = os.listdir(pneumonia)\n",
    "opacity_names = os.listdir(opacity)"
   ]
  },
  {
   "cell_type": "code",
   "execution_count": 9,
   "metadata": {},
   "outputs": [
    {
     "name": "stdout",
     "output_type": "stream",
     "text": [
      "3616\n",
      "10192\n",
      "1345\n",
      "6012\n",
      "21165\n"
     ]
    }
   ],
   "source": [
    "print(len(covid_names))\n",
    "print(len(normal_names))\n",
    "print(len(pneumonia_names))\n",
    "print(len(opacity_names))\n",
    "print(len(covid_names)+len(normal_names)+len(pneumonia_names)+len(opacity_names))"
   ]
  },
  {
   "cell_type": "code",
   "execution_count": null,
   "metadata": {},
   "outputs": [],
   "source": []
  }
 ],
 "metadata": {
  "kernelspec": {
   "display_name": "Covid19",
   "language": "python",
   "name": "python3"
  },
  "language_info": {
   "codemirror_mode": {
    "name": "ipython",
    "version": 3
   },
   "file_extension": ".py",
   "mimetype": "text/x-python",
   "name": "python",
   "nbconvert_exporter": "python",
   "pygments_lexer": "ipython3",
   "version": "3.10.6"
  }
 },
 "nbformat": 4,
 "nbformat_minor": 2
}
